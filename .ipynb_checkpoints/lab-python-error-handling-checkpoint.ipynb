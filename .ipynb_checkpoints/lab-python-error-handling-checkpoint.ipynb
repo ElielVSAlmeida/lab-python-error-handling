{
 "cells": [
  {
   "cell_type": "markdown",
   "id": "25d7736c-ba17-4aff-b6bb-66eba20fbf4e",
   "metadata": {},
   "source": [
    "# Lab | Error Handling"
   ]
  },
  {
   "cell_type": "code",
   "execution_count": 5,
   "id": "2fe64c4f",
   "metadata": {},
   "outputs": [
    {
     "name": "stdout",
     "output_type": "stream",
     "text": [
      "Enter the quantity of t-shirts available: 5\n",
      "Enter the quantity of mugs available: -2\n",
      "Quantity cannot be negative. Please enter a valid quantity.\n",
      "Enter the quantity of mugs available: t\n",
      "Invalid input. Please enter a valid quantity.\n",
      "Enter the quantity of mugs available: 0\n",
      "Enter the quantity of hats available: bt\n",
      "Invalid input. Please enter a valid quantity.\n",
      "Enter the quantity of hats available: 54\n",
      "Enter the quantity of books available: 2\n",
      "Enter the quantity of keychains available: 4\n"
     ]
    },
    {
     "data": {
      "text/plain": [
       "{'t-shirt': 5, 'mug': 0, 'hat': 54, 'book': 2, 'keychain': 4}"
      ]
     },
     "execution_count": 5,
     "metadata": {},
     "output_type": "execute_result"
    }
   ],
   "source": [
    "productList = [\"t-shirt\", \"mug\", \"hat\", \"book\", \"keychain\"]\n",
    "def initialize_inventory(products):\n",
    "    inventory = {}\n",
    "    for product in products:\n",
    "        valid_input = False\n",
    "        while not valid_input:\n",
    "            try:\n",
    "                quantity = int(input(f\"Enter the quantity of {product}s available: \"))\n",
    "                if quantity >= 0:\n",
    "                    inventory[product] = quantity\n",
    "                    valid_input = True\n",
    "                else:\n",
    "                    print(\"Quantity cannot be negative. Please enter a valid quantity.\")\n",
    "            except ValueError:\n",
    "                print(\"Invalid input. Please enter a valid quantity.\")\n",
    "    return inventory\n",
    "initialize_inventory(productList)"
   ]
  },
  {
   "cell_type": "markdown",
   "id": "bc99b386-7508-47a0-bcdb-d969deaf6c8b",
   "metadata": {},
   "source": [
    "## Exercise: Error Handling for Managing Customer Orders\n",
    "\n",
    "The implementation of your code for managing customer orders assumes that the user will always enter a valid input. \n",
    "\n",
    "For example, we could modify the `initialize_inventory` function to include error handling.\n",
    "   - If the user enters an invalid quantity (e.g., a negative value or a non-numeric value), display an error message and ask them to re-enter the quantity for that product.\n",
    "   - Use a try-except block to handle the error and continue prompting the user until a valid quantity is entered.\n",
    "\n",
    "```python\n",
    "# Step 1: Define the function for initializing the inventory with error handling\n",
    "def initialize_inventory(products):\n",
    "    inventory = {}\n",
    "    for product in products:\n",
    "        valid_quantity = False\n",
    "        while not valid_quantity:\n",
    "            try:\n",
    "                quantity = int(input(f\"Enter the quantity of {product}s available: \"))\n",
    "                if quantity < 0:\n",
    "                    raise ValueError(\"Invalid quantity! Please enter a non-negative value.\")\n",
    "                valid_quantity = True\n",
    "            except ValueError as error:\n",
    "                print(f\"Error: {error}\")\n",
    "        inventory[product] = quantity\n",
    "    return inventory\n",
    "\n",
    "# Or, in another way:\n",
    "\n",
    "def initialize_inventory(products):\n",
    "    inventory = {}\n",
    "    for product in products:\n",
    "        valid_input = False\n",
    "        while not valid_input:\n",
    "            try:\n",
    "                quantity = int(input(f\"Enter the quantity of {product}s available: \"))\n",
    "                if quantity >= 0:\n",
    "                    inventory[product] = quantity\n",
    "                    valid_input = True\n",
    "                else:\n",
    "                    print(\"Quantity cannot be negative. Please enter a valid quantity.\")\n",
    "            except ValueError:\n",
    "                print(\"Invalid input. Please enter a valid quantity.\")\n",
    "    return inventory\n",
    "```\n",
    "\n",
    "Let's enhance your code by implementing error handling to handle invalid inputs.\n",
    "\n",
    "Follow the steps below to complete the exercise:\n",
    "\n",
    "2. Modify the `calculate_total_price` function to include error handling.\n",
    "   - If the user enters an invalid price (e.g., a negative value or a non-numeric value), display an error message and ask them to re-enter the price for that product.\n",
    "   - Use a try-except block to handle the error and continue prompting the user until a valid price is entered.\n",
    "\n",
    "3. Modify the `get_customer_orders` function to include error handling.\n",
    "   - If the user enters an invalid number of orders (e.g., a negative value or a non-numeric value), display an error message and ask them to re-enter the number of orders.\n",
    "   - If the user enters an invalid product name (e.g., a product name that is not in the inventory), or that doesn't have stock available, display an error message and ask them to re-enter the product name. *Hint: you will need to pass inventory as a parameter*\n",
    "   - Use a try-except block to handle the error and continue prompting the user until a valid product name is entered.\n",
    "\n",
    "4. Test your code by running the program and deliberately entering invalid quantities and product names. Make sure the error handling mechanism works as expected.\n"
   ]
  },
  {
   "cell_type": "code",
   "execution_count": 24,
   "id": "39fa9842",
   "metadata": {},
   "outputs": [
    {
     "name": "stdout",
     "output_type": "stream",
     "text": [
      "Please place the quantity of t-shirt: 1\n",
      "Please place the quantity of mug: 2\n",
      "Please place the quantity of hat: 1\n",
      "Please place the quantity of book: 2\n",
      "Please place the quantity of keychain: 2\n"
     ]
    }
   ],
   "source": [
    "productList = [\"t-shirt\", \"mug\", \"hat\", \"book\", \"keychain\"]\n",
    "def initializeInventory(products):\n",
    "    inventory = {item : int(input(f'Please place the quantity of {item}: ')) for item in products}\n",
    "    \n",
    "    return inventory\n",
    "inVen = initializeInventory(productList)"
   ]
  },
  {
   "cell_type": "code",
   "execution_count": 43,
   "id": "86f2eb9b",
   "metadata": {},
   "outputs": [
    {
     "name": "stdout",
     "output_type": "stream",
     "text": [
      "How many would you like to order? 2\n",
      "Products you want order? dog\n",
      "Products you want order? cat\n",
      "Products you want order? dog\n",
      "Products you want order? mug\n",
      "It is not in the list try again. \n",
      "Products you want order? hat\n",
      "Products you want order? dog\n",
      "It is not in the list try again. \n",
      "Products you want order? hat\n",
      "Products you want order? book\n"
     ]
    }
   ],
   "source": [
    "def getCustOrder(inventory):\n",
    "    validInt = False\n",
    "    validStr = False\n",
    "    while not validInt:\n",
    "        try:\n",
    "            intendedAction = int(input(\"How many would you like to order? \"))\n",
    "            if intendedAction >= 0:\n",
    "                validInt = True\n",
    "            else:\n",
    "                print('Place a positive and non zero number. ')\n",
    "        except ValueError:\n",
    "            print('Invalid input place a integer. ')\n",
    "    while not validStr:\n",
    "        try:\n",
    "            customerOrder = {input('Products you want order? ') for order in range(intendedAction)}\n",
    "            for item in list(customerOrder):\n",
    "                if item in inventory.keys():\n",
    "                    if inventory[item] > 0:\n",
    "                        validStr = True\n",
    "                else:\n",
    "                    customerOrder = {input('Products you want order? ') for order in range(intendedAction)}\n",
    "                    print('It is not in the list try again. ')\n",
    "        except ValueError:\n",
    "                print(\"Invalid input. Please enter a valid str. \")\n",
    "    return customerOrder\n",
    "theOrder = getCustOrder(inVen)"
   ]
  },
  {
   "cell_type": "code",
   "execution_count": 22,
   "id": "424b365c",
   "metadata": {},
   "outputs": [
    {
     "name": "stdout",
     "output_type": "stream",
     "text": [
      "Which price is hat? 43\n",
      "Which price is mug? g\n",
      "Invalid assignment to input\n",
      "Which price is hat? -64\n",
      "Which price is mug? -65\n",
      "Please use a positive input\n",
      "Please use a positive input\n",
      "Which price is hat? 46\n",
      "Which price is mug? 64\n"
     ]
    },
    {
     "data": {
      "text/plain": [
       "110"
      ]
     },
     "execution_count": 22,
     "metadata": {},
     "output_type": "execute_result"
    }
   ],
   "source": [
    "def pricedOrder(order):\n",
    "    validInput = False\n",
    "    while not validInput:\n",
    "        try:\n",
    "            dictionary = {x:int(input(f'Which price is {x}? ')) for x in order}\n",
    "            for i in range(len(list(dictionary.values()))):\n",
    "                if list(dictionary.values())[i] >= 0:\n",
    "                    validInput = True\n",
    "                else:\n",
    "                    print('Please use a positive input')\n",
    "        except ValueError:\n",
    "            print('Invalid assignment to input')\n",
    "    priceCalc = sum(dictionary.values())\n",
    "    return priceCalc\n",
    "pricedOrder(theOrder)"
   ]
  }
 ],
 "metadata": {
  "kernelspec": {
   "display_name": "Python 3 (ipykernel)",
   "language": "python",
   "name": "python3"
  },
  "language_info": {
   "codemirror_mode": {
    "name": "ipython",
    "version": 3
   },
   "file_extension": ".py",
   "mimetype": "text/x-python",
   "name": "python",
   "nbconvert_exporter": "python",
   "pygments_lexer": "ipython3",
   "version": "3.11.3"
  }
 },
 "nbformat": 4,
 "nbformat_minor": 5
}
